{
 "cells": [
  {
   "cell_type": "code",
   "metadata": {
    "ExecuteTime": {
     "end_time": "2024-05-23T11:57:37.169256Z",
     "start_time": "2024-05-23T11:57:36.254032Z"
    }
   },
   "source": [
    "# import libaries \n",
    "import csv\n",
    "import numpy as np\n",
    "import tensorflow as tf\n",
    "import os\n",
    "from sklearn.model_selection import train_test_split\n",
    "from sklearn.neighbors import KNeighborsClassifier\n",
    "from sklearn.metrics import accuracy_score\n",
    "from sklearn.model_selection import GridSearchCV"
   ],
   "outputs": [
    {
     "ename": "ModuleNotFoundError",
     "evalue": "No module named 'tensorflow'",
     "output_type": "error",
     "traceback": [
      "\u001B[0;31m---------------------------------------------------------------------------\u001B[0m",
      "\u001B[0;31mModuleNotFoundError\u001B[0m                       Traceback (most recent call last)",
      "Cell \u001B[0;32mIn[4], line 4\u001B[0m\n\u001B[1;32m      2\u001B[0m \u001B[38;5;28;01mimport\u001B[39;00m \u001B[38;5;21;01mcsv\u001B[39;00m\n\u001B[1;32m      3\u001B[0m \u001B[38;5;28;01mimport\u001B[39;00m \u001B[38;5;21;01mnumpy\u001B[39;00m \u001B[38;5;28;01mas\u001B[39;00m \u001B[38;5;21;01mnp\u001B[39;00m\n\u001B[0;32m----> 4\u001B[0m \u001B[38;5;28;01mimport\u001B[39;00m \u001B[38;5;21;01mtensorflow\u001B[39;00m \u001B[38;5;28;01mas\u001B[39;00m \u001B[38;5;21;01mtf\u001B[39;00m\n\u001B[1;32m      5\u001B[0m \u001B[38;5;28;01mimport\u001B[39;00m \u001B[38;5;21;01mos\u001B[39;00m\n\u001B[1;32m      6\u001B[0m \u001B[38;5;28;01mfrom\u001B[39;00m \u001B[38;5;21;01msklearn\u001B[39;00m\u001B[38;5;21;01m.\u001B[39;00m\u001B[38;5;21;01mmodel_selection\u001B[39;00m \u001B[38;5;28;01mimport\u001B[39;00m train_test_split\n",
      "\u001B[0;31mModuleNotFoundError\u001B[0m: No module named 'tensorflow'"
     ]
    }
   ],
   "execution_count": 4
  },
  {
   "cell_type": "code",
   "execution_count": 7,
   "metadata": {},
   "outputs": [],
   "source": [
    "# get csv data\n",
    "groundtruthdata = []\n",
    "with open('data.csv', 'r') as csv_datei:\n",
    "    csv_reader = csv.reader(csv_datei)\n",
    "    # skip header\n",
    "    next(csv_reader)\n",
    "    for zeile in csv_reader:\n",
    "        groundtruthdata.append(zeile[:2])"
   ]
  },
  {
   "cell_type": "code",
   "execution_count": 16,
   "metadata": {},
   "outputs": [],
   "source": [
    "# path to images\n",
    "data_path = 'images/'\n",
    "categories = ['0', '1'] \n",
    "\n",
    "img_size = (240, 240)\n",
    "batch_size = 32"
   ]
  },
  {
   "cell_type": "code",
   "execution_count": 3,
   "metadata": {},
   "outputs": [],
   "source": [
    "def load_and_preprocess_image(file_path, label):\n",
    "    img = tf.io.read_file(file_path)\n",
    "    img = tf.image.decode_jpeg(img, channels=1)\n",
    "    img = tf.image.resize(img, img_size)\n",
    "    img = tf.cast(img, tf.float32) / 255.0\n",
    "    return img, label"
   ]
  },
  {
   "cell_type": "code",
   "execution_count": 28,
   "metadata": {},
   "outputs": [],
   "source": [
    "labels = [inner_array[1] for inner_array in groundtruthdata]\n",
    "file_paths = [data_path + str(inner_array[0]) + '.jpg'  for inner_array in groundtruthdata]"
   ]
  },
  {
   "cell_type": "code",
   "execution_count": 29,
   "metadata": {},
   "outputs": [],
   "source": [
    "train_paths, test_paths, train_labels, test_labels = train_test_split(file_paths, labels, test_size=0.2, random_state=42)"
   ]
  },
  {
   "cell_type": "code",
   "execution_count": 30,
   "metadata": {},
   "outputs": [],
   "source": [
    "train_dataset = tf.data.Dataset.from_tensor_slices((train_paths, train_labels))\n",
    "test_dataset = tf.data.Dataset.from_tensor_slices((test_paths, test_labels))\n",
    "\n",
    "train_dataset = train_dataset.map(load_and_preprocess_image, num_parallel_calls=tf.data.AUTOTUNE)\n",
    "test_dataset = test_dataset.map(load_and_preprocess_image, num_parallel_calls=tf.data.AUTOTUNE)"
   ]
  },
  {
   "cell_type": "code",
   "execution_count": 31,
   "metadata": {},
   "outputs": [],
   "source": [
    "train_dataset = train_dataset.batch(batch_size).prefetch(buffer_size=tf.data.AUTOTUNE)\n",
    "test_dataset = test_dataset.batch(batch_size).prefetch(buffer_size=tf.data.AUTOTUNE)"
   ]
  },
  {
   "cell_type": "code",
   "execution_count": 32,
   "metadata": {},
   "outputs": [],
   "source": [
    "def dataset_to_numpy(dataset):\n",
    "    images, labels = [], []\n",
    "    for img_batch, label_batch in dataset:\n",
    "        images.extend(img_batch.numpy())\n",
    "        labels.extend(label_batch.numpy())\n",
    "    return np.array(images), np.array(labels)"
   ]
  },
  {
   "cell_type": "code",
   "execution_count": 33,
   "metadata": {},
   "outputs": [],
   "source": [
    "X_train, y_train = dataset_to_numpy(train_dataset)\n",
    "X_test, y_test = dataset_to_numpy(test_dataset)"
   ]
  },
  {
   "cell_type": "code",
   "execution_count": 34,
   "metadata": {},
   "outputs": [],
   "source": [
    "X_train = X_train.reshape(X_train.shape[0], -1)\n",
    "X_test = X_test.reshape(X_test.shape[0], -1)"
   ]
  },
  {
   "cell_type": "code",
   "execution_count": 39,
   "metadata": {},
   "outputs": [],
   "source": "#knn = KNeighborsClassifier(n_neighbors=3)"
  },
  {
   "metadata": {
    "ExecuteTime": {
     "end_time": "2024-05-23T11:56:33.350013Z",
     "start_time": "2024-05-23T11:56:33.210853Z"
    }
   },
   "cell_type": "code",
   "source": [
    "# Define the hyperparameters to be tuned\n",
    "param_grid_knn = {'n_neighbors': list(range(1, 11)), 'weights': ['uniform', 'distance']}\n",
    "\n",
    "# Create an instance of KNeighborsClassifier\n",
    "knn = KNeighborsClassifier()\n",
    "\n",
    "# Create an instance of GridSearchCV\n",
    "grid_search_knn = GridSearchCV(knn, param_grid_knn, cv=5)\n",
    "\n",
    "# Fit the GridSearchCV to the standardized training data\n",
    "grid_search_knn.fit(X_train, y_train)\n",
    "\n",
    "# Get the best hyperparameters\n",
    "best_hyperparameters_knn = grid_search_knn.best_params_\n",
    "\n",
    "# Print the best hyperparameters\n",
    "print(\"Best Hyperparameters for k-NN Classifier:\", best_hyperparameters_knn)\n",
    "\n",
    "#Check the best model with the test set\n",
    "\n",
    "# Get the best estimator\n",
    "best_knn_model = grid_search_knn.best_estimator_\n",
    "\n",
    "# Calculate accuracy rate on the test set\n",
    "accuracy_test_knn = best_knn_model.score(X_test, y_test) * 100\n",
    "\n",
    "# Print the result\n",
    "print(\"Accuracy rate on the test set for k-NN Classifier:\", round(accuracy_test_knn, 2), \"%\")"
   ],
   "outputs": [
    {
     "ename": "NameError",
     "evalue": "name 'KNeighborsClassifier' is not defined",
     "output_type": "error",
     "traceback": [
      "\u001B[0;31m---------------------------------------------------------------------------\u001B[0m",
      "\u001B[0;31mNameError\u001B[0m                                 Traceback (most recent call last)",
      "Cell \u001B[0;32mIn[3], line 5\u001B[0m\n\u001B[1;32m      2\u001B[0m param_grid_knn \u001B[38;5;241m=\u001B[39m {\u001B[38;5;124m'\u001B[39m\u001B[38;5;124mn_neighbors\u001B[39m\u001B[38;5;124m'\u001B[39m: \u001B[38;5;28mlist\u001B[39m(\u001B[38;5;28mrange\u001B[39m(\u001B[38;5;241m1\u001B[39m, \u001B[38;5;241m11\u001B[39m)), \u001B[38;5;124m'\u001B[39m\u001B[38;5;124mweights\u001B[39m\u001B[38;5;124m'\u001B[39m: [\u001B[38;5;124m'\u001B[39m\u001B[38;5;124muniform\u001B[39m\u001B[38;5;124m'\u001B[39m, \u001B[38;5;124m'\u001B[39m\u001B[38;5;124mdistance\u001B[39m\u001B[38;5;124m'\u001B[39m]}\n\u001B[1;32m      4\u001B[0m \u001B[38;5;66;03m# Create an instance of KNeighborsClassifier\u001B[39;00m\n\u001B[0;32m----> 5\u001B[0m knn \u001B[38;5;241m=\u001B[39m \u001B[43mKNeighborsClassifier\u001B[49m()\n\u001B[1;32m      7\u001B[0m \u001B[38;5;66;03m# Create an instance of GridSearchCV\u001B[39;00m\n\u001B[1;32m      8\u001B[0m grid_search_knn \u001B[38;5;241m=\u001B[39m GridSearchCV(knn, param_grid_knn, cv\u001B[38;5;241m=\u001B[39m\u001B[38;5;241m5\u001B[39m)\n",
      "\u001B[0;31mNameError\u001B[0m: name 'KNeighborsClassifier' is not defined"
     ]
    }
   ],
   "execution_count": 3
  },
  {
   "cell_type": "code",
   "metadata": {
    "ExecuteTime": {
     "end_time": "2024-05-23T11:55:02.582427Z",
     "start_time": "2024-05-23T11:55:02.576691Z"
    }
   },
   "source": "#knn.fit(X_train, y_train)",
   "outputs": [],
   "execution_count": 2
  },
  {
   "cell_type": "code",
   "execution_count": 41,
   "metadata": {},
   "outputs": [
    {
     "name": "stdout",
     "output_type": "stream",
     "text": [
      "Model Accuracy: 94.42%\n"
     ]
    }
   ],
   "source": [
    "#y_pred = knn.predict(X_test)\n",
    "\n",
    "#accuracy = accuracy_score(y_test, y_pred)\n",
    "#print(f'Model Accuracy: {accuracy * 100:.2f}%')"
   ]
  }
 ],
 "metadata": {
  "kernelspec": {
   "display_name": "ai_course",
   "language": "python",
   "name": "python3"
  },
  "language_info": {
   "codemirror_mode": {
    "name": "ipython",
    "version": 3
   },
   "file_extension": ".py",
   "mimetype": "text/x-python",
   "name": "python",
   "nbconvert_exporter": "python",
   "pygments_lexer": "ipython3",
   "version": "3.12.3"
  }
 },
 "nbformat": 4,
 "nbformat_minor": 2
}
